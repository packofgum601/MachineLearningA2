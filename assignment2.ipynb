{
 "cells": [
  {
   "cell_type": "markdown",
   "metadata": {},
   "source": [
    "# <div align=\"center\"> COSC 2673/2793 | Machine Learning </div>\n",
    "## <div align=\"center\"> Assignment 2 - Joseph Packham (s3838978) and Kylie Nguyen (s3946026) </div>"
   ]
  },
  {
   "cell_type": "markdown",
   "metadata": {},
   "source": [
    "# Introduction\n",
    "This report will cover the process of producing a machine learning model that will predict energy usage..."
   ]
  },
  {
   "cell_type": "code",
   "execution_count": 17,
   "metadata": {},
   "outputs": [],
   "source": [
    "#importing packages\n",
    "import pandas as pd\n",
    "import matplotlib.pyplot as plt\n",
    "import numpy as np\n",
    "from sklearn.model_selection import train_test_split\n",
    "import tensorflow as tf\n",
    "import pydot as pyd\n",
    "from tensorflow.keras.metrics import MeanAbsoluteError"
   ]
  },
  {
   "cell_type": "code",
   "execution_count": null,
   "metadata": {},
   "outputs": [],
   "source": [
    "#read in CSV file and display first 5 rows\n",
    "energyUse_df = pd.read_csv('./dataset/UCI-electricity/UCI_data.csv', delimiter=',')\n",
    "energyUse_df.head()"
   ]
  },
  {
   "cell_type": "markdown",
   "metadata": {},
   "source": [
    "# Exploratory Data Analysis\n",
    "First, the data is investigated through EDA. It is observed that the shape of the dataframe is 19735 rows of data with 28 columns, where 1 column is the target variable (energy usage in Wh), and the remaining columns are the attributes. According to the description of the data, these attributes cover the temperature and humidity of different rooms in the house, as well as outside, along with a few other weather related variables such as pressure and windspeed. It is noted that there are two variables listed as \"Random Variable\". Using the .info() function, it is confirmed that there are no null values within the dataset."
   ]
  },
  {
   "cell_type": "code",
   "execution_count": null,
   "metadata": {},
   "outputs": [],
   "source": [
    "#check for any null values, using shape to compare\n",
    "print(\"Shape of Energy Use dataframe: \", energyUse_df.shape, \"\\n\")\n",
    "\n",
    "energyUse_df.info()"
   ]
  },
  {
   "cell_type": "markdown",
   "metadata": {},
   "source": [
    "Using the describe function, the count, mean, standard deviation, quantiles and the minimum and maximum values of the data are returned. With these values it is seen that, although the range of the values among the variables regarding humidity and temperature are relatively similar, there are cases where the range differs greatly. For example, the range of Windspeed is between 0-14, whereas the range of target energy is between 10-1110. This suggests that feature scaling should be done later in the process, as the differing ranges may cause problems or confuse the learning algorithms."
   ]
  },
  {
   "cell_type": "code",
   "execution_count": null,
   "metadata": {},
   "outputs": [],
   "source": [
    "energyUse_df.describe()"
   ]
  },
  {
   "cell_type": "markdown",
   "metadata": {},
   "source": [
    "# Data distribution\n",
    "In order to observe the distributions of each variable, histograms are plotted for the variables other than date, as the date variable is of type object and cannot be plotted."
   ]
  },
  {
   "cell_type": "code",
   "execution_count": null,
   "metadata": {},
   "outputs": [],
   "source": [
    "#get list of columns other than date\n",
    "columns = (energyUse_df.columns).difference(['date'])\n",
    "#plot histogram for all variables other than date\n",
    "plt.figure(figsize=(20,20))\n",
    "for i, column in enumerate(columns):\n",
    "    plt.subplot(6,5,i+1)\n",
    "    plt.hist(energyUse_df[column], alpha=0.3, color='b', density=True)\n",
    "    plt.title(column)\n",
    "    plt.xticks(rotation='vertical')\n",
    "    plt.tight_layout()"
   ]
  },
  {
   "cell_type": "markdown",
   "metadata": {},
   "source": [
    "> **Observations:**\n",
    "> - There are a number of attributes that appear to be skewed, eg. RH_5, RH_Out, T2 etc.\n",
    "> - The two random variables are very evenly distributed."
   ]
  },
  {
   "cell_type": "code",
   "execution_count": null,
   "metadata": {},
   "outputs": [],
   "source": [
    "#display boxplot for the target, energy usage, variable\n",
    "plt.boxplot(energyUse_df['TARGET_energy'])\n",
    "plt.title('Energy Usage')\n",
    "plt.show()"
   ]
  },
  {
   "cell_type": "markdown",
   "metadata": {},
   "source": [
    "After displaying the boxplot for the target variable, it is observed that there are a number of outliers above the lower limit. These values will be dropped as to prevent these dramatically different values from affecting the model. The outliers are dropped using the IQR method."
   ]
  },
  {
   "cell_type": "code",
   "execution_count": null,
   "metadata": {},
   "outputs": [],
   "source": [
    "#get the quantiles and IQR\n",
    "q1 = energyUse_df['TARGET_energy'].quantile(0.25)\n",
    "q3 = energyUse_df['TARGET_energy'].quantile(0.75)\n",
    "IQR = q3-q1\n",
    "\n",
    "#calculate lower and upper limits\n",
    "lowerLimit = q1 - (1.5*IQR)\n",
    "upperLimit = q3 + (1.5*IQR)\n",
    "\n",
    "#get rid of rows with outliers from the dataframe\n",
    "energyUse_df = energyUse_df.loc[(energyUse_df['TARGET_energy'] > lowerLimit) & (energyUse_df['TARGET_energy'] < upperLimit)]\n",
    "\n",
    "#display boxplot without outliers\n",
    "plt.boxplot(energyUse_df['TARGET_energy'])\n",
    "plt.title('Energy Usage')\n",
    "plt.show()"
   ]
  },
  {
   "cell_type": "code",
   "execution_count": null,
   "metadata": {},
   "outputs": [],
   "source": [
    "energyUse_df.shape"
   ]
  },
  {
   "cell_type": "markdown",
   "metadata": {},
   "source": [
    "# Relationship between variables\n",
    "Using scatterplots, the relationship between the target variable, Energy Usage, against the other attributes in the dataframe is explored."
   ]
  },
  {
   "cell_type": "code",
   "execution_count": null,
   "metadata": {},
   "outputs": [],
   "source": [
    "#import seaborn package for plotting scatterplots\n",
    "import seaborn as sns\n",
    "\n",
    "#plot scatterplots for all features against target variable\n",
    "plt.figure(figsize=(20,20))\n",
    "for i, column in enumerate(columns):\n",
    "    plt.subplot(6,5, i+1)\n",
    "    sns.scatterplot(data=energyUse_df, x=column, y='TARGET_energy')\n",
    "    plt.title(column)\n",
    "\n",
    "plt.xticks(rotation='vertical')\n",
    "plt.tight_layout()\n",
    "plt.show()"
   ]
  },
  {
   "cell_type": "code",
   "execution_count": null,
   "metadata": {},
   "outputs": [],
   "source": [
    "#get list of columns other than date and target\n",
    "columns = (energyUse_df.columns).difference(['date', 'TARGET_energy'])\n",
    "\n",
    "g = sns.PairGrid(data=energyUse_df, vars=columns, hue='TARGET_energy')\n",
    "g.map(sns.scatterplot)\n",
    "plt.show()"
   ]
  },
  {
   "cell_type": "markdown",
   "metadata": {},
   "source": [
    "> **Observations:**\n",
    "> - There are some plots that show that a linear decision boundary may be able to separate the two classes. eg. \n",
    "> - Whereas there are some plots that show that a non-linear decision boundary may be to separate the two classes. "
   ]
  },
  {
   "cell_type": "code",
   "execution_count": null,
   "metadata": {},
   "outputs": [],
   "source": [
    "#get df without date column\n",
    "energyUse_df_noDate = energyUse_df.drop(columns=['date'])\n",
    "\n",
    "#plot correlation plot\n",
    "f, ax = plt.subplots(figsize=(11, 9))\n",
    "corr = energyUse_df_noDate.corr()\n",
    "ax = sns.heatmap(\n",
    "    corr,\n",
    "    vmin=-1, vmax=1, center=0,\n",
    "    cmap=sns.diverging_palette(20, 220, n=200),\n",
    "    square=True\n",
    ")\n",
    "ax.set_xticklabels(\n",
    "    ax.get_xticklabels(),\n",
    "    rotation=90,\n",
    "    horizontalalignment='right'\n",
    ")"
   ]
  },
  {
   "cell_type": "markdown",
   "metadata": {},
   "source": [
    "> **Observations:**\n",
    "> - Variables relating to temperature are highly positively correlated with each other, and variables that are related to humidity are similarly, highly positively correlated with each other.\n",
    "> - Variables involving temperature generally have either a slight positive, or slight negative correlation with variables involving humidity.\n",
    "> - RH_6, the humidity outside the building (northside) seems to be quite negatively correlated with variables regarding temperature.\n",
    "> - The two random variables do not seem to be correlated with any other variable other being highly correlated with themselves as well as each other."
   ]
  },
  {
   "cell_type": "code",
   "execution_count": null,
   "metadata": {},
   "outputs": [],
   "source": [
    "energyUse_df['TARGET_energy'].hist(figsize=(5,5))\n",
    "plt.xlabel('Energy Usage')\n",
    "plt.ylabel('frequency')\n",
    "plt.show()"
   ]
  },
  {
   "cell_type": "markdown",
   "metadata": {},
   "source": [
    "# Creating Neural Network"
   ]
  },
  {
   "cell_type": "code",
   "execution_count": 24,
   "metadata": {},
   "outputs": [],
   "source": [
    "#function to plot learning curve\n",
    "def plot_learning_curve(train_loss, val_loss, train_metric, val_metric, metric_name=\"MeanAbsoluteError\"):\n",
    "    plt.figure(figsize=(10,5))\n",
    "\n",
    "    plt.subplot(1,2,1)\n",
    "    plt.plot(train_loss, 'r--')\n",
    "    plt.plot(val_loss, 'b--')\n",
    "    plt.xlabel(\"epochs\")\n",
    "    plt.ylabel(\"Loss\")\n",
    "    plt.legend(['train', 'val'], loc='upper left')\n",
    "\n",
    "    plt.subplot(1,2,2)\n",
    "    plt.plot(train_metric, 'r--')\n",
    "    plt.plot(val_metric, 'b--')\n",
    "    plt.xlabel(\"epochs\")\n",
    "    plt.ylabel(metric_name)\n",
    "    plt.legend(['train', 'val'], loc='upper left')\n",
    "\n",
    "    plt.show()"
   ]
  },
  {
   "cell_type": "code",
   "execution_count": null,
   "metadata": {},
   "outputs": [],
   "source": [
    "#split the data into traing, testing and validation\n",
    "\n",
    "with pd.option_context('mode.chained_assignment', None):\n",
    "    train_data, test_data = train_test_split(energyUse_df, test_size=0.3, shuffle=True, random_state=42)\n",
    "    test_data, val_data = train_test_split(test_data, test_size=0.5, shuffle=True, random_state=42)\n",
    "\n",
    "#remove the target column from the data\n",
    "X_train = train_data.drop(columns=['TARGET_energy', 'date'])\n",
    "y_train = train_data['TARGET_energy']\n",
    "\n",
    "X_test = test_data.drop(columns=['TARGET_energy', 'date'])\n",
    "y_test = test_data['TARGET_energy']\n",
    "\n",
    "X_val = val_data.drop(columns=['TARGET_energy', 'date'])\n",
    "y_val = val_data['TARGET_energy']\n",
    "\n",
    "#train data - used to train the model\n",
    "#validation data - used to tune the hyperparameters\n",
    "#test data - used to evaluate the final model\n",
    "\n",
    "\n",
    "\n",
    "\n"
   ]
  },
  {
   "cell_type": "markdown",
   "metadata": {},
   "source": [
    "## Base Neural Network on unchanged Data"
   ]
  },
  {
   "cell_type": "code",
   "execution_count": 12,
   "metadata": {},
   "outputs": [],
   "source": [
    "# base model values\n",
    "INPUT_DIM = X_train.shape[1]\n",
    "HIDDEN_LAYER_DIM = 128 #this can be tuned later\n",
    "OUTPUT_CLASSES = 1"
   ]
  },
  {
   "cell_type": "code",
   "execution_count": 16,
   "metadata": {},
   "outputs": [
    {
     "name": "stdout",
     "output_type": "stream",
     "text": [
      "Model: \"sequential_5\"\n",
      "_________________________________________________________________\n",
      " Layer (type)                Output Shape              Param #   \n",
      "=================================================================\n",
      " dense_10 (Dense)            (None, 128)               3456      \n",
      "                                                                 \n",
      " dense_11 (Dense)            (None, 1)                 129       \n",
      "                                                                 \n",
      "=================================================================\n",
      "Total params: 3,585\n",
      "Trainable params: 3,585\n",
      "Non-trainable params: 0\n",
      "_________________________________________________________________\n",
      "You must install pydot (`pip install pydot`) and install graphviz (see instructions at https://graphviz.gitlab.io/download/) for plot_model to work.\n"
     ]
    }
   ],
   "source": [
    "model = tf.keras.models.Sequential([\n",
    "    tf.keras.layers.Input(shape=(INPUT_DIM,)),\n",
    "    tf.keras.layers.Dense(HIDDEN_LAYER_DIM, activation='relu'),\n",
    "    tf.keras.layers.Dense(OUTPUT_CLASSES)\n",
    "])\n",
    "\n",
    "model.summary()\n",
    "tf.keras.utils.plot_model(model, show_shapes=True)"
   ]
  },
  {
   "cell_type": "code",
   "execution_count": 18,
   "metadata": {},
   "outputs": [],
   "source": [
    "#compile model\n",
    "model.compile(optimizer = 'SGD',\n",
    "              loss = 'mean_squared_error',\n",
    "              metrics = ['mean_absolute_error'])"
   ]
  },
  {
   "cell_type": "code",
   "execution_count": 27,
   "metadata": {},
   "outputs": [
    {
     "name": "stdout",
     "output_type": "stream",
     "text": [
      "Epoch 1/50\n",
      "432/432 - 1s - loss: 10780.0859 - mean_absolute_error: 62.4342 - val_loss: 11909.8281 - val_mean_absolute_error: 65.4546 - 523ms/epoch - 1ms/step\n",
      "Epoch 2/50\n",
      "432/432 - 0s - loss: 10782.0508 - mean_absolute_error: 62.5084 - val_loss: 11919.0918 - val_mean_absolute_error: 64.3360 - 419ms/epoch - 970us/step\n",
      "Epoch 3/50\n",
      "432/432 - 0s - loss: 10780.5557 - mean_absolute_error: 62.3627 - val_loss: 11917.0508 - val_mean_absolute_error: 64.5048 - 435ms/epoch - 1ms/step\n",
      "Epoch 4/50\n",
      "432/432 - 0s - loss: 10783.7236 - mean_absolute_error: 62.3032 - val_loss: 11912.0400 - val_mean_absolute_error: 65.0472 - 413ms/epoch - 957us/step\n",
      "Epoch 5/50\n",
      "432/432 - 0s - loss: 10781.6230 - mean_absolute_error: 62.4895 - val_loss: 11926.3193 - val_mean_absolute_error: 63.8752 - 490ms/epoch - 1ms/step\n",
      "Epoch 6/50\n",
      "432/432 - 1s - loss: 10779.7402 - mean_absolute_error: 62.0760 - val_loss: 11909.1836 - val_mean_absolute_error: 66.1897 - 630ms/epoch - 1ms/step\n",
      "Epoch 7/50\n",
      "432/432 - 1s - loss: 10780.8213 - mean_absolute_error: 62.4921 - val_loss: 11911.4971 - val_mean_absolute_error: 65.1279 - 818ms/epoch - 2ms/step\n",
      "Epoch 8/50\n",
      "432/432 - 1s - loss: 10782.9961 - mean_absolute_error: 62.2702 - val_loss: 11909.1055 - val_mean_absolute_error: 65.7147 - 845ms/epoch - 2ms/step\n",
      "Epoch 9/50\n",
      "432/432 - 1s - loss: 10781.9414 - mean_absolute_error: 62.4427 - val_loss: 11912.9609 - val_mean_absolute_error: 64.9256 - 822ms/epoch - 2ms/step\n",
      "Epoch 10/50\n",
      "432/432 - 1s - loss: 10782.0889 - mean_absolute_error: 62.3997 - val_loss: 11917.1885 - val_mean_absolute_error: 64.4928 - 788ms/epoch - 2ms/step\n",
      "Epoch 11/50\n",
      "432/432 - 1s - loss: 10780.6885 - mean_absolute_error: 62.1509 - val_loss: 11909.1455 - val_mean_absolute_error: 66.1682 - 848ms/epoch - 2ms/step\n",
      "Epoch 12/50\n",
      "432/432 - 1s - loss: 10781.7363 - mean_absolute_error: 62.6652 - val_loss: 11931.8018 - val_mean_absolute_error: 63.6268 - 823ms/epoch - 2ms/step\n",
      "Epoch 13/50\n",
      "432/432 - 1s - loss: 10783.5127 - mean_absolute_error: 62.2584 - val_loss: 11917.5938 - val_mean_absolute_error: 64.4579 - 764ms/epoch - 2ms/step\n",
      "Epoch 14/50\n",
      "432/432 - 1s - loss: 10782.1025 - mean_absolute_error: 62.2509 - val_loss: 11909.8887 - val_mean_absolute_error: 65.4382 - 734ms/epoch - 2ms/step\n",
      "Epoch 15/50\n",
      "432/432 - 1s - loss: 10781.7148 - mean_absolute_error: 62.4852 - val_loss: 11920.1201 - val_mean_absolute_error: 64.2572 - 737ms/epoch - 2ms/step\n",
      "Epoch 16/50\n",
      "432/432 - 1s - loss: 10781.9854 - mean_absolute_error: 62.3087 - val_loss: 11914.2910 - val_mean_absolute_error: 64.7717 - 749ms/epoch - 2ms/step\n",
      "Epoch 17/50\n",
      "432/432 - 1s - loss: 10780.4951 - mean_absolute_error: 62.3970 - val_loss: 11916.6553 - val_mean_absolute_error: 64.5398 - 1s/epoch - 3ms/step\n",
      "Epoch 18/50\n",
      "432/432 - 1s - loss: 10780.2773 - mean_absolute_error: 62.5157 - val_loss: 11940.6133 - val_mean_absolute_error: 63.2836 - 772ms/epoch - 2ms/step\n",
      "Epoch 19/50\n",
      "432/432 - 1s - loss: 10782.0137 - mean_absolute_error: 62.1532 - val_loss: 11914.6016 - val_mean_absolute_error: 64.7384 - 919ms/epoch - 2ms/step\n",
      "Epoch 20/50\n",
      "432/432 - 1s - loss: 10781.7549 - mean_absolute_error: 62.3613 - val_loss: 11915.0586 - val_mean_absolute_error: 64.6920 - 750ms/epoch - 2ms/step\n",
      "Epoch 21/50\n",
      "432/432 - 1s - loss: 10782.3105 - mean_absolute_error: 62.3987 - val_loss: 11917.9482 - val_mean_absolute_error: 64.4282 - 754ms/epoch - 2ms/step\n",
      "Epoch 22/50\n",
      "432/432 - 1s - loss: 10782.0508 - mean_absolute_error: 62.4266 - val_loss: 11923.5166 - val_mean_absolute_error: 64.0202 - 715ms/epoch - 2ms/step\n",
      "Epoch 23/50\n",
      "432/432 - 1s - loss: 10780.1406 - mean_absolute_error: 62.2876 - val_loss: 11914.2266 - val_mean_absolute_error: 64.7788 - 705ms/epoch - 2ms/step\n",
      "Epoch 24/50\n",
      "432/432 - 1s - loss: 10780.6133 - mean_absolute_error: 62.5006 - val_loss: 11931.9473 - val_mean_absolute_error: 63.6207 - 829ms/epoch - 2ms/step\n",
      "Epoch 25/50\n",
      "432/432 - 1s - loss: 10781.7969 - mean_absolute_error: 62.2212 - val_loss: 11914.3506 - val_mean_absolute_error: 64.7652 - 886ms/epoch - 2ms/step\n",
      "Epoch 26/50\n",
      "432/432 - 1s - loss: 10782.0264 - mean_absolute_error: 62.2982 - val_loss: 11910.2842 - val_mean_absolute_error: 65.3463 - 955ms/epoch - 2ms/step\n",
      "Epoch 27/50\n",
      "432/432 - 1s - loss: 10782.9082 - mean_absolute_error: 62.3922 - val_loss: 11912.5918 - val_mean_absolute_error: 64.9724 - 993ms/epoch - 2ms/step\n",
      "Epoch 28/50\n",
      "432/432 - 1s - loss: 10782.2637 - mean_absolute_error: 62.4768 - val_loss: 11926.0273 - val_mean_absolute_error: 63.8893 - 780ms/epoch - 2ms/step\n",
      "Epoch 29/50\n",
      "432/432 - 1s - loss: 10783.6445 - mean_absolute_error: 62.2674 - val_loss: 11916.2881 - val_mean_absolute_error: 64.5733 - 785ms/epoch - 2ms/step\n",
      "Epoch 30/50\n",
      "432/432 - 1s - loss: 10778.7559 - mean_absolute_error: 62.3755 - val_loss: 11916.8271 - val_mean_absolute_error: 64.5245 - 722ms/epoch - 2ms/step\n",
      "Epoch 31/50\n",
      "432/432 - 1s - loss: 10781.1240 - mean_absolute_error: 62.4776 - val_loss: 11929.7480 - val_mean_absolute_error: 63.7159 - 857ms/epoch - 2ms/step\n",
      "Epoch 32/50\n",
      "432/432 - 1s - loss: 10782.9922 - mean_absolute_error: 62.2065 - val_loss: 11913.3330 - val_mean_absolute_error: 64.8802 - 738ms/epoch - 2ms/step\n",
      "Epoch 33/50\n",
      "432/432 - 1s - loss: 10782.2139 - mean_absolute_error: 62.4804 - val_loss: 11925.3223 - val_mean_absolute_error: 63.9244 - 684ms/epoch - 2ms/step\n",
      "Epoch 34/50\n",
      "432/432 - 1s - loss: 10782.2949 - mean_absolute_error: 62.2708 - val_loss: 11916.0488 - val_mean_absolute_error: 64.5955 - 785ms/epoch - 2ms/step\n",
      "Epoch 35/50\n",
      "432/432 - 1s - loss: 10781.2256 - mean_absolute_error: 62.5052 - val_loss: 11935.0518 - val_mean_absolute_error: 63.4936 - 1s/epoch - 3ms/step\n",
      "Epoch 36/50\n",
      "432/432 - 1s - loss: 10782.2305 - mean_absolute_error: 62.3809 - val_loss: 11940.7109 - val_mean_absolute_error: 63.2801 - 814ms/epoch - 2ms/step\n",
      "Epoch 37/50\n",
      "432/432 - 1s - loss: 10782.8164 - mean_absolute_error: 62.1857 - val_loss: 11914.5186 - val_mean_absolute_error: 64.7477 - 1s/epoch - 3ms/step\n",
      "Epoch 38/50\n",
      "432/432 - 1s - loss: 10782.4824 - mean_absolute_error: 62.2707 - val_loss: 11909.9395 - val_mean_absolute_error: 65.4254 - 849ms/epoch - 2ms/step\n",
      "Epoch 39/50\n",
      "432/432 - 1s - loss: 10781.2959 - mean_absolute_error: 62.2755 - val_loss: 11909.1416 - val_mean_absolute_error: 66.1667 - 954ms/epoch - 2ms/step\n",
      "Epoch 40/50\n",
      "432/432 - 1s - loss: 10782.4004 - mean_absolute_error: 62.5859 - val_loss: 11918.8252 - val_mean_absolute_error: 64.3571 - 847ms/epoch - 2ms/step\n",
      "Epoch 41/50\n",
      "432/432 - 1s - loss: 10782.2549 - mean_absolute_error: 62.1572 - val_loss: 11909.0078 - val_mean_absolute_error: 66.0799 - 841ms/epoch - 2ms/step\n",
      "Epoch 42/50\n",
      "432/432 - 1s - loss: 10782.7539 - mean_absolute_error: 62.5691 - val_loss: 11920.4111 - val_mean_absolute_error: 64.2356 - 1s/epoch - 2ms/step\n",
      "Epoch 43/50\n",
      "432/432 - 1s - loss: 10779.2646 - mean_absolute_error: 62.1893 - val_loss: 11908.9385 - val_mean_absolute_error: 65.9994 - 1s/epoch - 3ms/step\n",
      "Epoch 44/50\n",
      "432/432 - 1s - loss: 10782.5908 - mean_absolute_error: 62.5498 - val_loss: 11916.1865 - val_mean_absolute_error: 64.5828 - 951ms/epoch - 2ms/step\n",
      "Epoch 45/50\n",
      "432/432 - 1s - loss: 10781.4746 - mean_absolute_error: 62.3599 - val_loss: 11916.9453 - val_mean_absolute_error: 64.5142 - 1s/epoch - 3ms/step\n",
      "Epoch 46/50\n",
      "432/432 - 1s - loss: 10781.7324 - mean_absolute_error: 62.4124 - val_loss: 11923.1680 - val_mean_absolute_error: 64.0430 - 829ms/epoch - 2ms/step\n",
      "Epoch 47/50\n",
      "432/432 - 1s - loss: 10782.8350 - mean_absolute_error: 62.3007 - val_loss: 11915.8457 - val_mean_absolute_error: 64.6145 - 876ms/epoch - 2ms/step\n",
      "Epoch 48/50\n",
      "432/432 - 1s - loss: 10781.6045 - mean_absolute_error: 62.4636 - val_loss: 11927.2305 - val_mean_absolute_error: 63.8313 - 758ms/epoch - 2ms/step\n",
      "Epoch 49/50\n",
      "432/432 - 1s - loss: 10780.5020 - mean_absolute_error: 62.2405 - val_loss: 11914.4199 - val_mean_absolute_error: 64.7578 - 935ms/epoch - 2ms/step\n",
      "Epoch 50/50\n",
      "432/432 - 1s - loss: 10781.1309 - mean_absolute_error: 62.4582 - val_loss: 11926.8945 - val_mean_absolute_error: 63.8473 - 819ms/epoch - 2ms/step\n"
     ]
    }
   ],
   "source": [
    "#train the model\n",
    "history = model.fit(X_train, y_train, validation_data=(X_val, y_val), epochs=50, verbose=2)\n"
   ]
  },
  {
   "cell_type": "code",
   "execution_count": 25,
   "metadata": {},
   "outputs": [
    {
     "data": {
      "image/png": "[encoded data removed]",
      "text/plain": [
       "<Figure size 1000x500 with 2 Axes>"
      ]
     },
     "metadata": {},
     "output_type": "display_data"
    }
   ],
   "source": [
    "\n",
    "plot_learning_curve(history.history['loss'], history.history['val_loss'],\n",
    "                    history.history['mean_absolute_error'],\n",
    "                    history.history['val_mean_absolute_error'])"
   ]
  },
  {
   "cell_type": "markdown",
   "metadata": {},
   "source": [
    "#### Observations\n",
    "- the model performs extremely poorly \n",
    "- neds significant improvement"
   ]
  }
 ],
 "metadata": {
  "kernelspec": {
   "display_name": "Python 3",
   "language": "python",
   "name": "python3"
  },
  "language_info": {
   "codemirror_mode": {
    "name": "ipython",
    "version": 3
   },
   "file_extension": ".py",
   "mimetype": "text/x-python",
   "name": "python",
   "nbconvert_exporter": "python",
   "pygments_lexer": "ipython3",
   "version": "3.8.18"
  }
 },
 "nbformat": 4,
 "nbformat_minor": 2
}
