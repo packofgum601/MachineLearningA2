{
 "cells": [
  {
   "cell_type": "markdown",
   "metadata": {},
   "source": [
    "# <div align=\"center\"> COSC 2673/2793 | Machine Learning </div>\n",
    "## <div align=\"center\"> Assignment 2 - Joseph Packham (s3838978) and Kylie Nguyen (s3946026) </div>"
   ]
  },
  {
   "cell_type": "markdown",
   "metadata": {},
   "source": [
    "# Introduction\n",
    "This report will cover the process of producing a machine learning model that will predict energy usage..."
   ]
  },
  {
   "cell_type": "code",
   "execution_count": null,
   "metadata": {},
   "outputs": [],
   "source": [
    "#importing packages\n",
    "import pandas as pd\n",
    "import matplotlib.pyplot as plt\n",
    "import numpy as np"
   ]
  },
  {
   "cell_type": "code",
   "execution_count": null,
   "metadata": {},
   "outputs": [],
   "source": [
    "#read in CSV file and display first 5 rows\n",
    "energyUse_df = pd.read_csv('./dataset/UCI-electricity/UCI_data.csv', delimiter=',')\n",
    "energyUse_df.head()"
   ]
  },
  {
   "cell_type": "markdown",
   "metadata": {},
   "source": [
    "# Exploratory Data Analysis\n",
    "To start off, the data is first investigated through EDA. It is observed that the shape of the dataframe is 19735 rows of data with 28 columns, where 1 column is the target variable (energy usage in Wh), and the remaining columns are the attributes. According to the description of the data, these attributes cover the temperature and humidity of different rooms in the house, as well as outside, along with a few other weather related variables such as pressure and windspeed. It is noted that there are two variables listed as \"Random Variable\". Using the .info() function, it is confirmed that there are no null values within the dataset."
   ]
  },
  {
   "cell_type": "code",
   "execution_count": null,
   "metadata": {},
   "outputs": [],
   "source": [
    "#check for any null values, using shape to compare\n",
    "print(\"Shape of Energy Use dataframe: \", energyUse_df.shape, \"\\n\")\n",
    "\n",
    "energyUse_df.info()"
   ]
  },
  {
   "cell_type": "markdown",
   "metadata": {},
   "source": [
    "Using the describe function, the count, mean, standard deviation, quantiles and the minimum and maximum values of the data are returned. With these values it is seen that, although the range of the values among the variables regarding humidity and temperature are relatively similar, there are cases where the range differs greatly. For example, the range of Windspeed is between 0-14, whereas the range of target energy is between 10-1110. This suggests that feature scaling should be done later in the process, as the differing ranges may cause problems or confuse the learning algorithms."
   ]
  },
  {
   "cell_type": "code",
   "execution_count": null,
   "metadata": {},
   "outputs": [],
   "source": [
    "energyUse_df.describe()"
   ]
  },
  {
   "cell_type": "markdown",
   "metadata": {},
   "source": [
    "# Data distribution\n",
    "In order to observe the distributions of each variable, histograms are plotted for the variables other than date, as the date variable is of type object and cannot be plotted."
   ]
  },
  {
   "cell_type": "code",
   "execution_count": null,
   "metadata": {},
   "outputs": [],
   "source": [
    "#get list of columns other than date\n",
    "columns = (energyUse_df.columns).difference(['date'])\n",
    "#plot histogram for all variables other than date\n",
    "plt.figure(figsize=(20,20))\n",
    "for i, column in enumerate(columns):\n",
    "    plt.subplot(6,5,i+1)\n",
    "    plt.hist(energyUse_df[column], alpha=0.3, color='b', density=True)\n",
    "    plt.title(column)\n",
    "    plt.xticks(rotation='vertical')\n",
    "    plt.tight_layout()"
   ]
  },
  {
   "cell_type": "markdown",
   "metadata": {},
   "source": [
    "> **Observations:**\n",
    "> - There are a number of attributes that appear to be skewed, eg. RH_5, RH_Out, T2 etc.\n",
    "> - The two random variables are very evenly distributed."
   ]
  },
  {
   "cell_type": "code",
   "execution_count": null,
   "metadata": {},
   "outputs": [],
   "source": [
    "#display boxplot for the target, energy usage, variable\n",
    "plt.boxplot(energyUse_df['TARGET_energy'])\n",
    "plt.title('Energy Usage')\n",
    "plt.show()"
   ]
  },
  {
   "cell_type": "markdown",
   "metadata": {},
   "source": [
    "Upon displaying the boxplot for the target variable, it is observed that there are a number of outliers above the lower limit. These values will be dropped as to prevent these dramatically different values from affecting the model. The outliers are dropped using the IQR method, which appears to have not removed two outliers, as they are within the lower and upper limits. Another method of dropping the outliers was not attempted due to the restrictions placed by the course.\n"
   ]
  },
  {
   "cell_type": "code",
   "execution_count": null,
   "metadata": {},
   "outputs": [],
   "source": [
    "#get the quantiles and IQR\n",
    "q1 = energyUse_df['TARGET_energy'].quantile(0.25)\n",
    "q3 = energyUse_df['TARGET_energy'].quantile(0.75)\n",
    "IQR = q3-q1\n",
    "\n",
    "#calculate lower and upper limits\n",
    "lowerLimit = q1 - (1.5*IQR)\n",
    "upperLimit = q3 + (1.5*IQR)\n",
    "\n",
    "#get rid of rows with outliers from the dataframe\n",
    "energyUse_df = energyUse_df.loc[(energyUse_df['TARGET_energy'] > lowerLimit) & (energyUse_df['TARGET_energy'] < upperLimit)]\n",
    "\n",
    "#display boxplot without outliers\n",
    "plt.boxplot(energyUse_df['TARGET_energy'])\n",
    "plt.title('Energy Usage')\n",
    "plt.show()"
   ]
  },
  {
   "cell_type": "code",
   "execution_count": null,
   "metadata": {},
   "outputs": [],
   "source": [
    "energyUse_df.shape"
   ]
  },
  {
   "cell_type": "markdown",
   "metadata": {},
   "source": [
    "# Relationship between variables\n",
    "Using scatterplots, the relationship between the target variable, Energy Usage, against the other attributes in the dataframe is explored."
   ]
  },
  {
   "cell_type": "code",
   "execution_count": null,
   "metadata": {},
   "outputs": [],
   "source": [
    "#import seaborn package for plotting scatterplots\n",
    "import seaborn as sns\n",
    "\n",
    "#plot scatterplots for all features against target variable\n",
    "plt.figure(figsize=(20,20))\n",
    "for i, column in enumerate(columns):\n",
    "    plt.subplot(6,5, i+1)\n",
    "    sns.scatterplot(data=energyUse_df, x=column, y='TARGET_energy')\n",
    "    plt.title(column)\n",
    "\n",
    "plt.xticks(rotation='vertical')\n",
    "plt.tight_layout()\n",
    "plt.show()"
   ]
  },
  {
   "cell_type": "code",
   "execution_count": null,
   "metadata": {},
   "outputs": [],
   "source": [
    "#get df without date column\n",
    "energyUse_df_noDate = energyUse_df.drop(columns=['date'])\n",
    "\n",
    "#plot correlation plot\n",
    "f, ax = plt.subplots(figsize=(11, 9))\n",
    "corr = energyUse_df_noDate.corr()\n",
    "ax = sns.heatmap(\n",
    "    corr,\n",
    "    vmin=-1, vmax=1, center=0,\n",
    "    cmap=sns.diverging_palette(20, 220, n=200),\n",
    "    square=True\n",
    ")\n",
    "ax.set_xticklabels(\n",
    "    ax.get_xticklabels(),\n",
    "    rotation=90,\n",
    "    horizontalalignment='right'\n",
    ")"
   ]
  },
  {
   "cell_type": "markdown",
   "metadata": {},
   "source": [
    "> **Observations:**\n",
    "> - Variables relating to temperature are highly positively correlated with each other, and variables that are related to humidity are similarly, highly positively correlated with each other.\n",
    "> - Variables involving temperature generally have either a slight positive, or slight negative correlation with variables involving humidity.\n",
    "> - RH_6, the humidity outside the building (northside) seems to be quite negatively correlated with variables regarding temperature.\n",
    "> - The two random variables do not seem to be correlated with any other variable other being highly correlated with themselves as well as each other."
   ]
  },
  {
   "cell_type": "markdown",
   "metadata": {},
   "source": [
    "# Non-Neural Network - Linear Regression"
   ]
  },
  {
   "cell_type": "markdown",
   "metadata": {},
   "source": [
    "### Data Splitting"
   ]
  },
  {
   "cell_type": "code",
   "execution_count": null,
   "metadata": {},
   "outputs": [],
   "source": [
    "from sklearn.model_selection import train_test_split\n",
    "\n",
    "#split the dataset into 70% train and 15% test and 15% val\n",
    "with pd.option_context('mode.chained_assignment', None):\n",
    "    LR_train, LR_test = train_test_split(energyUse_df, test_size=0.3, shuffle=True, random_state = 42)\n",
    "    LR_test, LR_val = train_test_split(LR_test, test_size=0.5, shuffle=True, random_state = 42)\n",
    "\n",
    "#Separate the target and the attributes\n",
    "LR_X_train = LR_train.drop(['TARGET_energy', 'date'], axis=1)\n",
    "LR_y_train = LR_train['TARGET_energy']\n",
    "\n",
    "LR_X_test = LR_test.drop(['TARGET_energy', 'date'], axis=1)\n",
    "LR_y_test = LR_test['TARGET_energy']\n",
    "\n",
    "LR_X_val = LR_val.drop(['TARGET_energy', 'date'], axis=1)\n",
    "LR_y_val = LR_val['TARGET_energy']\n",
    "\n",
    "print(\"LR_X_train shape: \", LR_X_train.shape)\n",
    "print(\"LR_y_train shape: \", LR_y_train.shape)\n",
    "print(\"LR_X_test shape: \", LR_X_test.shape)\n",
    "print(\"LR_y_test shape: \", LR_y_test.shape)\n",
    "print(\"LR_X_val shape: \", LR_X_val.shape)\n",
    "print(\"LR_y_val shape: \", LR_y_val.shape)"
   ]
  },
  {
   "cell_type": "code",
   "execution_count": null,
   "metadata": {},
   "outputs": [],
   "source": [
    "energyUse_df_X = energyUse_df.drop(['TARGET_energy', 'date'], axis=1)\n",
    "\n",
    "#plotting histograms of both training and test datasets\n",
    "plt.figure(figsize=(20,20))\n",
    "for i, col in enumerate(energyUse_df_X.columns):\n",
    "    plt.subplot(6,5,i+1)\n",
    "    plt.hist(LR_X_train[col], alpha=0.3, color='b', density=True)\n",
    "    plt.hist(LR_X_test[col], alpha=0.3, color='r', density=True)\n",
    "    plt.title(col)\n",
    "    plt.xticks(rotation='vertical')\n",
    "    plt.tight_layout()"
   ]
  },
  {
   "cell_type": "markdown",
   "metadata": {},
   "source": [
    "### Base Model, Unscaled Data"
   ]
  },
  {
   "cell_type": "code",
   "execution_count": null,
   "metadata": {},
   "outputs": [],
   "source": [
    "from sklearn.linear_model import LinearRegression\n",
    "from sklearn.metrics import r2_score\n",
    "import math\n",
    "\n",
    "#unscaled\n",
    "model_us_lr = LinearRegression().fit(LR_X_train, LR_y_train)\n",
    "LR_y_val_pred_US = model_us_lr.predict(LR_X_val)\n",
    "\n",
    "r2_us_lr = r2_score(LR_y_val, LR_y_val_pred_US)\n",
    "print('The R^2 score for the linear regression model (without feature scaling) is: {:.3f}'.format(r2_us_lr))\n",
    "\n",
    "MSE_us_lr = np.square(np.subtract(LR_y_val,LR_y_val_pred_US)).mean()\n",
    "RMSE_us_lr = math.sqrt(MSE_us_lr)\n",
    "\n",
    "print('The RMSE score for the linear regression model (without feature scaling) is: {:.3f}'.format(RMSE_us_lr))"
   ]
  },
  {
   "cell_type": "code",
   "execution_count": null,
   "metadata": {},
   "outputs": [],
   "source": [
    "#predicting using linear model and plotting predicted vs actual values\n",
    "\n",
    "fig, energyUse_LinearRegression = plt.subplots()\n",
    "energyUse_LinearRegression.scatter(LR_y_val, LR_y_val_pred_US, s=25, cmap=plt.cm.coolwarm, zorder=10)\n",
    "\n",
    "lims = [\n",
    "    np.min([energyUse_LinearRegression.get_xlim(), energyUse_LinearRegression.get_ylim()]),\n",
    "    np.max([energyUse_LinearRegression.get_xlim(), energyUse_LinearRegression.get_ylim()]),\n",
    "]\n",
    "\n",
    "energyUse_LinearRegression.plot(lims, lims, 'k--', alpha=0.75, zorder=0)\n",
    "energyUse_LinearRegression.plot(lims, [np.mean(LR_y_train),]*2, 'r--', alpha=0.75, zorder=0)\n",
    "energyUse_LinearRegression.set_aspect('equal')\n",
    "energyUse_LinearRegression.set_xlim(lims)\n",
    "energyUse_LinearRegression.set_ylim(lims)\n",
    "\n",
    "plt.xlabel('Actual Energy Use')\n",
    "plt.ylabel('Predicted Energy Use')\n",
    "\n",
    "plt.show()"
   ]
  },
  {
   "cell_type": "code",
   "execution_count": null,
   "metadata": {},
   "outputs": [],
   "source": [
    "#plot residuals for unscaled\n",
    "fig, ax = plt.subplots()\n",
    "ax.scatter(LR_y_val, LR_y_val-LR_y_val_pred_US, s=25, cmap=plt.cm.coolwarm, zorder=10)\n",
    "\n",
    "xlims = ax.get_xlim()\n",
    "ax.plot(xlims, [0.0,]*2, 'k--', alpha=0.75, zorder=0)\n",
    "ax.set_xlim(xlims)\n",
    "\n",
    "plt.xlabel('Actual Energy Use')\n",
    "plt.ylabel('Residual')\n",
    "\n",
    "plt.show()"
   ]
  },
  {
   "cell_type": "markdown",
   "metadata": {},
   "source": [
    "### Model with MinMaxScaling and Power Transforming"
   ]
  },
  {
   "cell_type": "code",
   "execution_count": null,
   "metadata": {},
   "outputs": [],
   "source": [
    "#scaling all features, normalising skewed features\n",
    "from sklearn.preprocessing import MinMaxScaler\n",
    "from sklearn.preprocessing import PowerTransformer\n",
    "\n",
    "logNorm_attributes = ['RH_1', 'T2', 'T3', 'RH_3', 'RH_4', 'T5', 'RH_5', 'T6', 'RH_6', 'T7', 'RH_7', 'RH_8', 'T9', 'RH_9', 'T_out', 'Press_mm_hg', 'RH_out', 'Windspeed', 'Visibility']\n",
    "minmax_attributes = list(set(energyUse_df_X.columns).difference(set(logNorm_attributes)))\n",
    "\n",
    "LR_X_train_scaled = LR_X_train.copy()\n",
    "LR_X_val_scaled = LR_X_val.copy()\n",
    "\n",
    "minmaxscaler = MinMaxScaler().fit(LR_X_train_scaled.loc[:, minmax_attributes])\n",
    "LR_X_train_scaled.loc[:, minmax_attributes] = minmaxscaler.transform(LR_X_train_scaled.loc[:, minmax_attributes])\n",
    "LR_X_val_scaled.loc[:, minmax_attributes] = minmaxscaler.transform(LR_X_val_scaled.loc[:, minmax_attributes])\n",
    "\n",
    "powertransformer = PowerTransformer(method='yeo-johnson', standardize=False).fit(LR_X_train.loc[:, logNorm_attributes])\n",
    "LR_X_train_scaled.loc[:, logNorm_attributes] = powertransformer.transform(LR_X_train.loc[:, logNorm_attributes])\n",
    "LR_X_val_scaled.loc[:, logNorm_attributes] = powertransformer.transform(LR_X_val.loc[:, logNorm_attributes])\n",
    "\n",
    "minmaxscaler_pt = MinMaxScaler().fit(LR_X_train_scaled.loc[:, logNorm_attributes])\n",
    "LR_X_train_scaled.loc[:, logNorm_attributes] = minmaxscaler_pt.transform(LR_X_train_scaled.loc[:, logNorm_attributes])\n",
    "LR_X_val_scaled.loc[:, logNorm_attributes] = minmaxscaler_pt.transform(LR_X_val_scaled.loc[:, logNorm_attributes])"
   ]
  },
  {
   "cell_type": "code",
   "execution_count": null,
   "metadata": {},
   "outputs": [],
   "source": [
    "#plot all histograms after scaling and normalisation\n",
    "plt.figure(figsize=(20,20))\n",
    "for i, col in enumerate(LR_X_train_scaled.columns):\n",
    "    plt.subplot(6,5,i+1)\n",
    "    plt.hist(LR_X_train_scaled[col], alpha=0.3, color='b', density=True)\n",
    "    plt.hist(LR_X_val_scaled[col], alpha=0.3, color='r', density=True)\n",
    "    plt.title(col)\n",
    "    plt.xticks(rotation='vertical')\n",
    "    plt.tight_layout()"
   ]
  },
  {
   "cell_type": "code",
   "execution_count": null,
   "metadata": {},
   "outputs": [],
   "source": [
    "#fitting a linear regression model\n",
    "model_scaled_lr = LinearRegression().fit(LR_X_train_scaled, LR_y_train)\n",
    "\n",
    "#predicting using linear model and plotting predicted vs actual values\n",
    "LR_y_val_pred_scaled = model_scaled_lr.predict(LR_X_val_scaled)\n",
    "\n",
    "fig, energyUse_LinearRegression = plt.subplots()\n",
    "energyUse_LinearRegression.scatter(LR_y_val, LR_y_val_pred_scaled, s=25, cmap=plt.cm.coolwarm, zorder=10)\n",
    "\n",
    "lims = [\n",
    "    np.min([energyUse_LinearRegression.get_xlim(), energyUse_LinearRegression.get_ylim()]),\n",
    "    np.max([energyUse_LinearRegression.get_xlim(), energyUse_LinearRegression.get_ylim()]),\n",
    "]\n",
    "\n",
    "energyUse_LinearRegression.plot(lims, lims, 'k--', alpha=0.75, zorder=0)\n",
    "energyUse_LinearRegression.plot(lims, [np.mean(LR_y_train),]*2, 'r--', alpha=0.75, zorder=0)\n",
    "energyUse_LinearRegression.set_aspect('equal')\n",
    "energyUse_LinearRegression.set_xlim(lims)\n",
    "energyUse_LinearRegression.set_ylim(lims)\n",
    "\n",
    "plt.xlabel('Actual Energy Use')\n",
    "plt.ylabel('Predicted Energy Use')\n",
    "\n",
    "plt.show()"
   ]
  },
  {
   "cell_type": "code",
   "execution_count": null,
   "metadata": {},
   "outputs": [],
   "source": [
    "#plot residuals for scaled\n",
    "fig, ax = plt.subplots()\n",
    "ax.scatter(LR_y_val, LR_y_val-LR_y_val_pred_scaled, s=25, cmap=plt.cm.coolwarm, zorder=10)\n",
    "\n",
    "xlims = ax.get_xlim()\n",
    "ax.plot(xlims, [0.0,]*2, 'k--', alpha=0.75, zorder=0)\n",
    "ax.set_xlim(xlims)\n",
    "\n",
    "plt.xlabel('Actual Energy Use')\n",
    "plt.ylabel('Residual')\n",
    "\n",
    "plt.show()"
   ]
  },
  {
   "cell_type": "code",
   "execution_count": null,
   "metadata": {},
   "outputs": [],
   "source": [
    "#scaled\n",
    "r2_lr_scaled = r2_score(LR_y_val, LR_y_val_pred_scaled)\n",
    "\n",
    "print('The R^2 score for the linear regression model (with feature scaling) is: {:.3f}'.format(r2_lr_scaled))\n",
    "\n",
    "MSE_lr_scaled = np.square(np.subtract(LR_y_val,LR_y_val_pred_scaled)).mean()\n",
    "RMSE_lr_scaled = math.sqrt(MSE_lr_scaled)\n",
    "\n",
    "print('The RMSE score for the linear regression model (with feature scaling) is: {:.3f}'.format(RMSE_lr_scaled))"
   ]
  },
  {
   "cell_type": "markdown",
   "metadata": {},
   "source": [
    "### Day of Week Column + Scaled & Transformed data"
   ]
  },
  {
   "cell_type": "code",
   "execution_count": null,
   "metadata": {},
   "outputs": [],
   "source": [
    "#trying to use date to see if that makes model perform better\n",
    "energyUse_df['date'] = pd.to_datetime(energyUse_df['date'], format=\"%Y-%m-%d %H:%M:%S\")\n",
    "energyUse_df['day_of_week'] = energyUse_df['date'].dt.dayofweek\n",
    "\n",
    "#split the dataset into 70% train and 15% test and 15% val\n",
    "with pd.option_context('mode.chained_assignment', None):\n",
    "    LR_train, LR_test = train_test_split(energyUse_df, test_size=0.3, shuffle=True, random_state = 42)\n",
    "    LR_test, LR_val = train_test_split(LR_test, test_size=0.5, shuffle=True, random_state = 42)\n",
    "\n",
    "#Separate the target and the attributes\n",
    "LR_X_train = LR_train.drop(['TARGET_energy', 'date'], axis=1)\n",
    "LR_y_train = LR_train['TARGET_energy']\n",
    "\n",
    "LR_X_test = LR_test.drop(['TARGET_energy', 'date'], axis=1)\n",
    "LR_y_test = LR_test['TARGET_energy']\n",
    "\n",
    "LR_X_val = LR_val.drop(['TARGET_energy', 'date'], axis=1)\n",
    "LR_y_val = LR_val['TARGET_energy']\n",
    "\n",
    "print(\"LR_X_train shape: \", LR_X_train.shape)\n",
    "print(\"LR_y_train shape: \", LR_y_train.shape)\n",
    "print(\"LR_X_test shape: \", LR_X_test.shape)\n",
    "print(\"LR_y_test shape: \", LR_y_test.shape)\n",
    "print(\"LR_X_val shape: \", LR_X_val.shape)\n",
    "print(\"LR_y_val shape: \", LR_y_val.shape)\n"
   ]
  },
  {
   "cell_type": "code",
   "execution_count": null,
   "metadata": {},
   "outputs": [],
   "source": [
    "#scaling all features, normalising skewed features\n",
    "from sklearn.preprocessing import MinMaxScaler\n",
    "from sklearn.preprocessing import PowerTransformer\n",
    "\n",
    "logNorm_attributes = ['RH_1', 'T2', 'T3', 'RH_3', 'RH_4', 'T5', 'RH_5', 'T6', 'RH_6', 'T7', 'RH_7', 'RH_8', 'T9', 'RH_9', 'T_out', 'Press_mm_hg', 'RH_out', 'Windspeed', 'Visibility']\n",
    "minmax_attributes = list(set(energyUse_df_X.columns).difference(set(logNorm_attributes)))\n",
    "\n",
    "LR_X_train_scaled = LR_X_train.copy()\n",
    "LR_X_val_scaled = LR_X_val.copy()\n",
    "\n",
    "minmaxscaler = MinMaxScaler().fit(LR_X_train_scaled.loc[:, minmax_attributes])\n",
    "LR_X_train_scaled.loc[:, minmax_attributes] = minmaxscaler.transform(LR_X_train_scaled.loc[:, minmax_attributes])\n",
    "LR_X_val_scaled.loc[:, minmax_attributes] = minmaxscaler.transform(LR_X_val_scaled.loc[:, minmax_attributes])\n",
    "\n",
    "powertransformer = PowerTransformer(method='yeo-johnson', standardize=False).fit(LR_X_train.loc[:, logNorm_attributes])\n",
    "LR_X_train_scaled.loc[:, logNorm_attributes] = powertransformer.transform(LR_X_train.loc[:, logNorm_attributes])\n",
    "LR_X_val_scaled.loc[:, logNorm_attributes] = powertransformer.transform(LR_X_val.loc[:, logNorm_attributes])\n",
    "\n",
    "minmaxscaler_pt = MinMaxScaler().fit(LR_X_train_scaled.loc[:, logNorm_attributes])\n",
    "LR_X_train_scaled.loc[:, logNorm_attributes] = minmaxscaler_pt.transform(LR_X_train_scaled.loc[:, logNorm_attributes])\n",
    "LR_X_val_scaled.loc[:, logNorm_attributes] = minmaxscaler_pt.transform(LR_X_val_scaled.loc[:, logNorm_attributes])"
   ]
  },
  {
   "cell_type": "code",
   "execution_count": null,
   "metadata": {},
   "outputs": [],
   "source": [
    "#fitting a linear regression model\n",
    "model_scaled_lr_wDayOfWeek = LinearRegression().fit(LR_X_train_scaled, LR_y_train)\n",
    "\n",
    "#predicting using linear model and plotting predicted vs actual values\n",
    "LR_y_val_pred_dayOfWeek = model_scaled_lr_wDayOfWeek.predict(LR_X_val_scaled)\n",
    "\n",
    "fig, energyUse_wDayOfWeek_LinearRegression = plt.subplots()\n",
    "energyUse_wDayOfWeek_LinearRegression.scatter(LR_y_val, LR_y_val_pred_dayOfWeek, s=25, cmap=plt.cm.coolwarm, zorder=10)\n",
    "\n",
    "lims = [\n",
    "    np.min([energyUse_wDayOfWeek_LinearRegression.get_xlim(), energyUse_wDayOfWeek_LinearRegression.get_ylim()]),\n",
    "    np.max([energyUse_wDayOfWeek_LinearRegression.get_xlim(), energyUse_wDayOfWeek_LinearRegression.get_ylim()]),\n",
    "]\n",
    "\n",
    "energyUse_wDayOfWeek_LinearRegression.plot(lims, lims, 'k--', alpha=0.75, zorder=0)\n",
    "energyUse_wDayOfWeek_LinearRegression.plot(lims, [np.mean(LR_y_train),]*2, 'r--', alpha=0.75, zorder=0)\n",
    "energyUse_wDayOfWeek_LinearRegression.set_aspect('equal')\n",
    "energyUse_wDayOfWeek_LinearRegression.set_xlim(lims)\n",
    "energyUse_wDayOfWeek_LinearRegression.set_ylim(lims)\n",
    "\n",
    "plt.xlabel('Actual Energy Use')\n",
    "plt.ylabel('Predicted Energy Use')\n",
    "\n",
    "plt.show()"
   ]
  },
  {
   "cell_type": "code",
   "execution_count": null,
   "metadata": {},
   "outputs": [],
   "source": [
    "fig, ax = plt.subplots()\n",
    "ax.scatter(LR_y_val, LR_y_val-LR_y_val_pred_dayOfWeek, s=25, cmap=plt.cm.coolwarm, zorder=10)\n",
    "\n",
    "xlims = ax.get_xlim()\n",
    "ax.plot(xlims, [0.0,]*2, 'k--', alpha=0.75, zorder=0)\n",
    "ax.set_xlim(xlims)\n",
    "\n",
    "plt.xlabel('Actual Energy Use')\n",
    "plt.ylabel('Residual')\n",
    "\n",
    "plt.show()"
   ]
  },
  {
   "cell_type": "code",
   "execution_count": null,
   "metadata": {},
   "outputs": [],
   "source": [
    "#scaled + dayOfWeek\n",
    "r2_lr = r2_score(LR_y_val, LR_y_val_pred_dayOfWeek)\n",
    "\n",
    "print('The R^2 score for the linear regression model (with feature scaling + dayOfWeek) is: {:.3f}'.format(r2_lr))\n",
    "\n",
    "MSE_lr = np.square(np.subtract(LR_y_val,LR_y_val_pred_dayOfWeek)).mean()\n",
    "RMSE_lr = math.sqrt(MSE_lr)\n",
    "\n",
    "print('The RMSE score for the linear regression model (with feature scaling + dayOfWeek) is: {:.3f}'.format(RMSE_lr))"
   ]
  },
  {
   "cell_type": "markdown",
   "metadata": {},
   "source": [
    "### Day of Week Column + Unscaled & Untransformed data"
   ]
  },
  {
   "cell_type": "code",
   "execution_count": null,
   "metadata": {},
   "outputs": [],
   "source": [
    "#fitting a linear regression model\n",
    "model_us_lr_wDayOfWeek = LinearRegression().fit(LR_X_train, LR_y_train)\n",
    "\n",
    "#predicting using linear model and plotting predicted vs actual values\n",
    "LR_y_val_pred_dayOfWeek_us = model_us_lr_wDayOfWeek.predict(LR_X_val)\n",
    "\n",
    "fig, energyUse_wDayOfWeek_LinearRegression = plt.subplots()\n",
    "energyUse_wDayOfWeek_LinearRegression.scatter(LR_y_val, LR_y_val_pred_dayOfWeek_us, s=25, cmap=plt.cm.coolwarm, zorder=10)\n",
    "\n",
    "lims = [\n",
    "    np.min([energyUse_wDayOfWeek_LinearRegression.get_xlim(), energyUse_wDayOfWeek_LinearRegression.get_ylim()]),\n",
    "    np.max([energyUse_wDayOfWeek_LinearRegression.get_xlim(), energyUse_wDayOfWeek_LinearRegression.get_ylim()]),\n",
    "]\n",
    "\n",
    "energyUse_wDayOfWeek_LinearRegression.plot(lims, lims, 'k--', alpha=0.75, zorder=0)\n",
    "energyUse_wDayOfWeek_LinearRegression.plot(lims, [np.mean(LR_y_train),]*2, 'r--', alpha=0.75, zorder=0)\n",
    "energyUse_wDayOfWeek_LinearRegression.set_aspect('equal')\n",
    "energyUse_wDayOfWeek_LinearRegression.set_xlim(lims)\n",
    "energyUse_wDayOfWeek_LinearRegression.set_ylim(lims)\n",
    "\n",
    "plt.xlabel('Actual Energy Use')\n",
    "plt.ylabel('Predicted Energy Use')\n",
    "\n",
    "plt.show()"
   ]
  },
  {
   "cell_type": "code",
   "execution_count": null,
   "metadata": {},
   "outputs": [],
   "source": [
    "fig, ax = plt.subplots()\n",
    "ax.scatter(LR_y_val, LR_y_val-LR_y_val_pred_dayOfWeek, s=25, cmap=plt.cm.coolwarm, zorder=10)\n",
    "\n",
    "xlims = ax.get_xlim()\n",
    "ax.plot(xlims, [0.0,]*2, 'k--', alpha=0.75, zorder=0)\n",
    "ax.set_xlim(xlims)\n",
    "\n",
    "plt.xlabel('Actual Energy Use')\n",
    "plt.ylabel('Residual')\n",
    "\n",
    "plt.show()"
   ]
  },
  {
   "cell_type": "code",
   "execution_count": null,
   "metadata": {},
   "outputs": [],
   "source": [
    "#unscaled + dayOfWeek\n",
    "r2_lr = r2_score(LR_y_val, LR_y_val_pred_dayOfWeek_us)\n",
    "\n",
    "print('The R^2 score for the linear regression model (unscaled + dayOfWeek) is: {:.3f}'.format(r2_lr))\n",
    "\n",
    "MSE_lr = np.square(np.subtract(LR_y_val,LR_y_val_pred_dayOfWeek_us)).mean()\n",
    "RMSE_lr = math.sqrt(MSE_lr)\n",
    "\n",
    "print('The RMSE score for the linear regression model (unscaled + dayOfWeek) is: {:.3f}'.format(RMSE_lr))"
   ]
  },
  {
   "cell_type": "code",
   "execution_count": null,
   "metadata": {},
   "outputs": [],
   "source": [
    "LR_y_test_pred_dayOfWeek_us = model_us_lr_wDayOfWeek.predict(LR_X_test)\n",
    "#unscaled + dayOfWeek\n",
    "r2_lr = r2_score(LR_y_test, LR_y_test_pred_dayOfWeek_us)\n",
    "\n",
    "print('The R^2 score for the linear regression model (unscaled + dayOfWeek) is: {:.3f}'.format(r2_lr))\n",
    "\n",
    "MSE_lr = np.square(np.subtract(LR_y_test, LR_y_test_pred_dayOfWeek_us)).mean()\n",
    "RMSE_lr = math.sqrt(MSE_lr)\n",
    "\n",
    "print('The RMSE score for the linear regression model (unscaled + dayOfWeek) is: {:.3f}'.format(RMSE_lr))"
   ]
  }
 ],
 "metadata": {
  "kernelspec": {
   "display_name": "Python 3",
   "language": "python",
   "name": "python3"
  },
  "language_info": {
   "codemirror_mode": {
    "name": "ipython",
    "version": 3
   },
   "file_extension": ".py",
   "mimetype": "text/x-python",
   "name": "python",
   "nbconvert_exporter": "python",
   "pygments_lexer": "ipython3",
   "version": "3.11.7"
  }
 },
 "nbformat": 4,
 "nbformat_minor": 2
}
